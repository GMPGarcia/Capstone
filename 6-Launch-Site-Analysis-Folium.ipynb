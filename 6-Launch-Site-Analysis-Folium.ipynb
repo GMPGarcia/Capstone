{
 "cells": [
  {
   "cell_type": "markdown",
   "metadata": {},
   "source": [
    "# **Launch Sites Locations Analysis with Folium**\n"
   ]
  },
  {
   "cell_type": "markdown",
   "metadata": {},
   "source": [
    "The launch success rate may depend on many factors such as payload mass, orbit type, and so on. It may also depend on the location and proximities of a launch site, i.e., the initial position of rocket trajectories. Finding an optimal location for building a launch site certainly involves many factors and hopefully we could discover some of the factors by analyzing the existing launch site locations.\n"
   ]
  },
  {
   "cell_type": "markdown",
   "metadata": {},
   "source": [
    "In the previous exploratory data analysis projects, we have visualized the SpaceX launch dataset using `matplotlib` and `seaborn` and discovered some preliminary correlations between the launch site and success rates. In this project, we will be performing more interactive visual analytics using `Folium`.\n"
   ]
  },
  {
   "cell_type": "markdown",
   "metadata": {},
   "source": [
    "## Objectives\n"
   ]
  },
  {
   "cell_type": "markdown",
   "metadata": {},
   "source": [
    "This project contains the following tasks:\n",
    "\n",
    "*   **TASK 1:** Mark all launch sites on a map\n",
    "*   **TASK 2:** Mark the success/failed launches for each site on the map\n",
    "*   **TASK 3:** Calculate the distances between a launch site to its proximities\n",
    "\n",
    "After completed the above tasks, we should be able to find some geographical patterns about launch sites."
   ]
  },
  {
   "cell_type": "markdown",
   "metadata": {},
   "source": [
    "----"
   ]
  },
  {
   "cell_type": "markdown",
   "metadata": {},
   "source": [
    "Let's first import required Python packages for this project:\n"
   ]
  },
  {
   "cell_type": "code",
   "execution_count": null,
   "metadata": {},
   "outputs": [],
   "source": [
    "!pip install folium\n",
    "!pip install wget\n",
    "!pip install pandas\n",
    "\n",
    "import folium\n",
    "import wget\n",
    "import pandas as pd\n",
    "\n",
    "# Import folium MarkerCluster plugin\n",
    "from folium.plugins import MarkerCluster\n",
    "# Import folium MousePosition plugin\n",
    "from folium.plugins import MousePosition\n",
    "# Import folium DivIcon plugin\n",
    "from folium.features import DivIcon"
   ]
  },
  {
   "cell_type": "markdown",
   "metadata": {},
   "source": [
    "If we need to refresh our memory about folium, we may download and refer to this previous folium project:\n"
   ]
  },
  {
   "cell_type": "markdown",
   "metadata": {},
   "source": [
    "[Generating Maps with Python](https://cf-courses-data.s3.us.cloud-object-storage.appdomain.cloud/IBM-DS0321EN-SkillsNetwork/labs/module\\_3/DV0101EN-3-5-1-Generating-Maps-in-Python-py-v2.0.ipynb)\n"
   ]
  },
  {
   "cell_type": "markdown",
   "metadata": {},
   "source": [
    "## Task 1: Mark all launch sites on a map\n"
   ]
  },
  {
   "cell_type": "markdown",
   "metadata": {},
   "source": [
    "First, let's try to add each site's location on a map using site's latitude and longitude coordinates\n"
   ]
  },
  {
   "cell_type": "markdown",
   "metadata": {},
   "source": [
    "The following dataset with the name `spacex_launch_geo.csv` is an augmented dataset with latitude and longitude added for each site.\n"
   ]
  },
  {
   "cell_type": "code",
   "execution_count": null,
   "metadata": {},
   "outputs": [],
   "source": [
    "spacex_df = pd.read_csv('https://cf-courses-data.s3.us.cloud-object-storage.appdomain.cloud/IBM-DS0321EN-SkillsNetwork/datasets/spacex_launch_geo.csv')\n",
    "spacex_df"
   ]
  },
  {
   "cell_type": "markdown",
   "metadata": {},
   "source": [
    "Now, we can take a look at what are the coordinates for each site.\n"
   ]
  },
  {
   "cell_type": "code",
   "execution_count": null,
   "metadata": {},
   "outputs": [],
   "source": [
    "# Select relevant sub-columns: `Launch Site`, `Lat(Latitude)`, `Long(Longitude)`, `class`\n",
    "spacex_df = spacex_df[['Launch Site', 'Lat', 'Long', 'class']]\n",
    "launch_sites_df = spacex_df.groupby(['Launch Site'], as_index=False).first()\n",
    "launch_sites_df = launch_sites_df[['Launch Site', 'Lat', 'Long']]\n",
    "launch_sites_df"
   ]
  },
  {
   "cell_type": "markdown",
   "metadata": {},
   "source": [
    "Above coordinates are just plain numbers that can not give we any intuitive insights about where are those launch sites. If we are very good at geography, we can interpret those numbers directly in your mind. If not, that's fine too. Let's visualize those locations by pinning them on a map.\n"
   ]
  },
  {
   "cell_type": "markdown",
   "metadata": {},
   "source": [
    "We first need to create a folium `Map` object, with an initial center location to be NASA Johnson Space Center at Houston, Texas.\n"
   ]
  },
  {
   "cell_type": "code",
   "execution_count": null,
   "metadata": {},
   "outputs": [],
   "source": [
    "# Start location is NASA Johnson Space Center\n",
    "nasa_coordinate = [29.559684888503615, -95.0830971930759]\n",
    "site_map = folium.Map(location=nasa_coordinate, zoom_start=10)"
   ]
  },
  {
   "cell_type": "markdown",
   "metadata": {},
   "source": [
    "We could use `folium.Circle` to add a highlighted circle area with a text label on a specific coordinate. For example,\n"
   ]
  },
  {
   "cell_type": "code",
   "execution_count": null,
   "metadata": {},
   "outputs": [],
   "source": [
    "# Create a blue circle at NASA Johnson Space Center's coordinate with a popup label showing its name\n",
    "circle = folium.Circle(nasa_coordinate, radius=1000, color='#d35400', fill=True).add_child(folium.Popup('NASA Johnson Space Center'))\n",
    "# Create a blue circle at NASA Johnson Space Center's coordinate with a icon showing its name\n",
    "marker = folium.map.Marker(\n",
    "    nasa_coordinate,\n",
    "    # Create an icon as a text label\n",
    "    icon=DivIcon(\n",
    "        icon_size=(20,20),\n",
    "        icon_anchor=(0,0),\n",
    "        html='<div style=\"font-size: 12; color:#d35400;\"><b>%s</b></div>' % 'NASA JSC',\n",
    "        )\n",
    "    )\n",
    "site_map.add_child(circle)\n",
    "site_map.add_child(marker)"
   ]
  },
  {
   "cell_type": "markdown",
   "metadata": {},
   "source": [
    "and we should find a small yellow circle near the city of Houston and we can zoom-in to see a larger circle.\n"
   ]
  },
  {
   "cell_type": "markdown",
   "metadata": {},
   "source": [
    "Now, let's add a circle for each launch site in data frame `launch_sites`\n"
   ]
  },
  {
   "cell_type": "markdown",
   "metadata": {},
   "source": [
    "*TODO:*  Create and add `folium.Circle` and `folium.Marker` for each launch site on the site map"
   ]
  },
  {
   "cell_type": "markdown",
   "metadata": {},
   "source": [
    "An example of folium.Circle:\n"
   ]
  },
  {
   "cell_type": "markdown",
   "metadata": {},
   "source": [
    "`folium.Circle(coordinate, radius=1000, color='#000000', fill=True).add_child(folium.Popup(...))`\n"
   ]
  },
  {
   "cell_type": "markdown",
   "metadata": {},
   "source": [
    "An example of folium.Marker:\n"
   ]
  },
  {
   "cell_type": "markdown",
   "metadata": {},
   "source": [
    "`folium.map.Marker(coordinate, icon=DivIcon(icon_size=(20,20),icon_anchor=(0,0), html='<div style=\"font-size: 12; color:#d35400;\"><b>%s</b></div>' % 'label', ))`\n"
   ]
  },
  {
   "cell_type": "code",
   "execution_count": null,
   "metadata": {},
   "outputs": [],
   "source": [
    "launch_sites_df"
   ]
  },
  {
   "cell_type": "code",
   "execution_count": null,
   "metadata": {},
   "outputs": [],
   "source": [
    "launch_sites_df['Lat'][0]"
   ]
  },
  {
   "cell_type": "code",
   "execution_count": null,
   "metadata": {},
   "outputs": [],
   "source": [
    "# Initial the map\n",
    "site_map = folium.Map(location=nasa_coordinate, zoom_start=2)\n",
    "# For each launch site, add a Circle object based on its coordinate (Lat, Long) values. In addition, add Launch site name as a popup label\n",
    "\n",
    "for index,row in launch_sites_df.iterrows():\n",
    "    coordinates = [row['Lat'],row['Long']]\n",
    "    launch_site = row['Launch Site']\n",
    "\n",
    "# Create a blue circle at NASA Johnson Space Center's coordinate with a popup label showing its name\n",
    "circle = folium.Circle(coordinates, radius=1000, color='#d35400', fill=True).add_child(folium.Popup(launch_site))\n",
    "# Create a blue circle at NASA Johnson Space Center's coordinate with a icon showing its name\n",
    "marker = folium.map.Marker(\n",
    "    coordinates,\n",
    "    # Create an icon as a text label\n",
    "    icon=DivIcon(\n",
    "        icon_size=(20,20),\n",
    "        icon_anchor=(0,0),\n",
    "        html='<div style=\"font-size: 12; color:#d35400;\"><b>'+launch_site+'</b></div>',\n",
    "        )\n",
    "    )\n",
    "site_map.add_child(circle)\n",
    "site_map.add_child(marker)"
   ]
  },
  {
   "cell_type": "code",
   "execution_count": null,
   "metadata": {},
   "outputs": [],
   "source": [
    "# Initial the map\n",
    "site_map = folium.Map(location=nasa_coordinate, zoom_start=4)\n",
    "# For each launch site, add a Circle object based on its coordinate (Lat, Long) values. In addition, add Launch site name as a popup label\n",
    "\n",
    "for index,row in launch_sites_df.iterrows():\n",
    "    coordinates = [row['Lat'],row['Long']]\n",
    "    launch_site = row['Launch Site']\n",
    "\n",
    "    # Create a blue circle at NASA Johnson Space Center's coordinate with a popup label showing its name\n",
    "    circle = folium.Circle(coordinates, radius=1000, color='#d35400', fill=True).add_child(folium.Popup(launch_site))\n",
    "    # Create a blue circle at NASA Johnson Space Center's coordinate with a icon showing its name\n",
    "    marker = folium.map.Marker(\n",
    "        coordinates,\n",
    "        # Create an icon as a text label\n",
    "        icon=DivIcon(\n",
    "            icon_size=(20,20),\n",
    "            icon_anchor=(0,0),\n",
    "            html='<div style=\"font-size: 12; color:#d35400;\"><b>'+launch_site+'</b></div>',\n",
    "            )\n",
    "        )\n",
    "    site_map.add_child(circle)\n",
    "    site_map.add_child(marker)\n",
    "\n",
    "# site_map.save('map_with_launch_sites.html')\n",
    "display(site_map)"
   ]
  },
  {
   "cell_type": "markdown",
   "metadata": {},
   "source": [
    "Now, we can explore the map by zoom-in/out the marked areas\n",
    ", and try to answer the following questions:\n",
    "\n",
    "*   Are all launch sites in proximity to the Equator line?\n",
    "*   Are all launch sites in very close proximity to the coast?"
   ]
  },
  {
   "cell_type": "markdown",
   "metadata": {},
   "source": [
    "# Task 2: Mark the success/failed launches for each site on the map\n"
   ]
  },
  {
   "cell_type": "markdown",
   "metadata": {},
   "source": [
    "Next, let's try to enhance the map by adding the launch outcomes for each site, and see which sites have high success rates.\n",
    "Recall that data frame spacex_df has detailed launch records, and the `class` column indicates if this launch was successful or not\n"
   ]
  },
  {
   "cell_type": "code",
   "execution_count": null,
   "metadata": {},
   "outputs": [],
   "source": [
    "spacex_df.tail(10)"
   ]
  },
  {
   "cell_type": "markdown",
   "metadata": {},
   "source": [
    "Next, let's create markers for all launch records.\n",
    "If a launch was successful `(class=1)`, then we use a green marker and if a launch was failed, we use a red marker `(class=0)`\n"
   ]
  },
  {
   "cell_type": "markdown",
   "metadata": {},
   "source": [
    "Note that a launch only happens in one of the four launch sites, which means many launch records will have the exact same coordinate. Marker clusters can be a good way to simplify a map containing many markers having the same coordinate.\n"
   ]
  },
  {
   "cell_type": "markdown",
   "metadata": {},
   "source": [
    "Let's first create a `MarkerCluster` object\n"
   ]
  },
  {
   "cell_type": "code",
   "execution_count": null,
   "metadata": {},
   "outputs": [],
   "source": [
    "# marker_cluster = MarkerCluster()\n"
   ]
  },
  {
   "cell_type": "markdown",
   "metadata": {},
   "source": [
    "*TODO:* Create a new column in `launch_sites` dataframe called `marker_color` to store the marker colors based on the `class` value\n"
   ]
  },
  {
   "cell_type": "code",
   "execution_count": null,
   "metadata": {},
   "outputs": [],
   "source": [
    "# Apply a function to check the value of `class` column\n",
    "# If class=1, marker_color value will be green\n",
    "# If class=0, marker_color value will be red\n",
    "\n",
    "def marker_color_function(class_column):\n",
    "    if class_column == 0:\n",
    "        return 'red'\n",
    "    else:\n",
    "        return 'green'\n",
    "        \n",
    "    \n",
    "spacex_df.loc[:,'marker_color']= spacex_df['class'].apply(marker_color_function)"
   ]
  },
  {
   "cell_type": "markdown",
   "metadata": {},
   "source": [
    "*TODO:* For each launch result in `spacex_df` data frame, add a `folium.Marker` to `marker_cluster`\n"
   ]
  },
  {
   "cell_type": "code",
   "execution_count": null,
   "metadata": {},
   "outputs": [],
   "source": [
    "# Create a marker cluster object and add it to the map\n",
    "marker_cluster = MarkerCluster().add_to(site_map)\n",
    "\n",
    "# Iterate through each row in spacex_df\n",
    "for index, row in spacex_df.iterrows():\n",
    "    coordinates = [row['Lat'], row['Long']]  # Get the coordinates\n",
    "    launch_site = row['Launch Site']  # Get the launch site name\n",
    "    marker_color = row['marker_color']  # Get the color based on launch success/failure\n",
    "    \n",
    "    # Create a Marker with custom icon color\n",
    "    marker = folium.Marker(\n",
    "        location=coordinates,\n",
    "        popup=launch_site,  # Optional: Add the launch site name as a popup\n",
    "        icon=folium.Icon(color='white', icon_color=marker_color)  # Customize icon color\n",
    "    )\n",
    "    \n",
    "    # Add marker to the marker cluster\n",
    "    marker_cluster.add_child(marker)\n",
    "\n",
    "# Display or save the map (as needed)\n",
    "site_map\n"
   ]
  },
  {
   "cell_type": "markdown",
   "metadata": {},
   "source": [
    "From the color-labeled markers in marker clusters, we should be able to easily identify which launch sites have relatively high success rates.\n"
   ]
  },
  {
   "cell_type": "markdown",
   "metadata": {},
   "source": [
    "# TASK 3: Calculate the distances between a launch site to its proximities"
   ]
  },
  {
   "cell_type": "markdown",
   "metadata": {},
   "source": [
    "Next, we need to explore and analyze the proximities of launch sites.\n"
   ]
  },
  {
   "cell_type": "markdown",
   "metadata": {},
   "source": [
    "Let's first add a `MousePosition` on the map to get coordinate for a mouse over a point on the map. As such, while we are exploring the map, we can easily find the coordinates of any points of interests (such as railway)\n"
   ]
  },
  {
   "cell_type": "code",
   "execution_count": null,
   "metadata": {},
   "outputs": [],
   "source": [
    "# Add Mouse Position to get the coordinate (Lat, Long) for a mouse over on the map\n",
    "formatter = \"function(num) {return L.Util.formatNum(num, 5);};\"\n",
    "mouse_position = MousePosition(\n",
    "    position='topright',\n",
    "    separator=' Long: ',\n",
    "    empty_string='NaN',\n",
    "    lng_first=False,\n",
    "    num_digits=20,\n",
    "    prefix='Lat:',\n",
    "    lat_formatter=formatter,\n",
    "    lng_formatter=formatter,\n",
    ")\n",
    "\n",
    "site_map.add_child(mouse_position)\n",
    "site_map"
   ]
  },
  {
   "cell_type": "markdown",
   "metadata": {},
   "source": [
    "Now zoom in to a launch site and explore its proximity to see if we can easily find any railway, highway, coastline, etc. Move your mouse to these points and mark down their coordinates (shown on the top-right) in order to the distance to the launch site.\n"
   ]
  },
  {
   "cell_type": "code",
   "execution_count": null,
   "metadata": {},
   "outputs": [],
   "source": [
    "from math import sin, cos, sqrt, atan2, radians\n",
    "\n",
    "def calculate_distance(lat1, lon1, lat2, lon2):\n",
    "    # approximate radius of earth in km\n",
    "    R = 6373.0\n",
    "\n",
    "    lat1 = radians(lat1)\n",
    "    lon1 = radians(lon1)\n",
    "    lat2 = radians(lat2)\n",
    "    lon2 = radians(lon2)\n",
    "\n",
    "    dlon = lon2 - lon1\n",
    "    dlat = lat2 - lat1\n",
    "\n",
    "    a = sin(dlat / 2)**2 + cos(lat1) * cos(lat2) * sin(dlon / 2)**2\n",
    "    c = 2 * atan2(sqrt(a), sqrt(1 - a))\n",
    "\n",
    "    distance = R * c\n",
    "    return distance"
   ]
  },
  {
   "cell_type": "markdown",
   "metadata": {},
   "source": [
    "*TODO:* Mark down a point on the closest coastline using MousePosition and calculate the distance between the coastline point and the launch site.\n"
   ]
  },
  {
   "cell_type": "code",
   "execution_count": null,
   "metadata": {},
   "outputs": [],
   "source": [
    "# find coordinate of the closet coastline\n",
    "coastline_lat = 28.56367  \n",
    "coastline_lon = -80.57163\n",
    "launch_site_lat = spacex_df.loc[0,'Lat']\n",
    "launch_site_lon = spacex_df.loc[0,'Long']\n",
    "\n",
    "\n",
    "distance_coastline = calculate_distance(launch_site_lat, launch_site_lon, coastline_lat, coastline_lon)\n",
    "print(distance_coastline)"
   ]
  },
  {
   "cell_type": "code",
   "execution_count": null,
   "metadata": {},
   "outputs": [],
   "source": [
    "coastline_lat = 28.56385\n",
    "coastline_lon = -80.56802\n",
    "\n",
    "launch_site_lat = spacex_df.loc[0,'Lat']\n",
    "launch_site_lon = spacex_df.loc[0,'Long']\n",
    "\n",
    "closest_coastline_coordinate = [coastline_lat, coastline_lon]\n",
    "launch_site_coordinate = [launch_site_lat,launch_site_lon]\n",
    "\n",
    "distance_coastline = calculate_distance(launch_site_lat, launch_site_lon, coastline_lat, coastline_lon)  # Replace with the actual distance between coastline point and launch site\n",
    "\n",
    "# Create a folium marker at the closest coastline point\n",
    "distance_marker = folium.Marker(\n",
    "    closest_coastline_coordinate,\n",
    "    icon=DivIcon(\n",
    "        icon_size=(20, 20),\n",
    "        icon_anchor=(0, 0),\n",
    "        html='<div style=\"font-size: 12; color:#d35400;\"><b>%s</b></div>' % \"{:10.2f} KM\".format(distance_coastline)\n",
    "    )\n",
    ")\n",
    "\n",
    "# Add the marker to the site_map\n",
    "site_map.add_child(distance_marker)\n",
    "\n",
    "# Optionally, add a line connecting the launch site and the coastline point\n",
    "folium.PolyLine(\n",
    "    locations=[launch_site_coordinate, closest_coastline_coordinate],\n",
    "    color=\"blue\",\n",
    "    weight=2.5,\n",
    "    opacity=1\n",
    ").add_to(site_map)\n",
    "\n",
    "site_map"
   ]
  },
  {
   "cell_type": "code",
   "execution_count": null,
   "metadata": {},
   "outputs": [],
   "source": [
    "#Distance to Florida City \n",
    "\n",
    "coordinates = [\n",
    "    [28.56342, -80.57674],\n",
    "    [28.5383, -81.3792]]\n",
    "\n",
    "lines=folium.PolyLine(locations=coordinates, weight=1)\n",
    "site_map.add_child(lines)\n",
    "distance = calculate_distance(coordinates[0][0], coordinates[0][1], coordinates[1][0], coordinates[1][1])\n",
    "distance_circle = folium.Marker(\n",
    "    [28.5383, -81.3792],\n",
    "    icon=DivIcon(\n",
    "        icon_size=(20,20),\n",
    "        icon_anchor=(0,0),\n",
    "        html='<div style=\"font-size: 12; color:#252526;\"><b>%s</b></div>' % \"{:10.2f} KM\".format(distance),\n",
    "        )\n",
    "    )\n",
    "site_map.add_child(distance_circle)\n",
    "site_map"
   ]
  },
  {
   "cell_type": "markdown",
   "metadata": {},
   "source": [
    "### Author\n",
    "<p style=\"text-align:left\">\n",
    "    <a href=\"https://www.linkedin.com/in/goncalompgarcia/\" target=\"_blank\">\n",
    "    <img src=\"https://media.licdn.com/dms/image/v2/D4D03AQFy-sZDCp5IKw/profile-displayphoto-shrink_800_800/profile-displayphoto-shrink_800_800/0/1677110860633?e=1735171200&v=beta&t=05qcF4FXWzO8wMClr336EQPTYgYVSxfq0Da4WIGe7n8\" width=\"200\" style=\"border-radius: 50%;\" alt=\"Gonçalo Picture\">\n",
    "    </a>\n",
    "</p>\n",
    "\n",
    "### <a href=\"https://www.linkedin.com/in/goncalompgarcia/\">Gonçalo Garcia</a> \n",
    "### <a href=\"https://www.linkedin.com/in/goncalompgarcia/\">linkedin.com/in/goncalompgarcia/</a> \n",
    "#### Data-driven Value Delivery | Python, SQL, Analytics | Digital & Project Management | Mechanical Engineer | Private Teacher"
   ]
  },
  {
   "cell_type": "code",
   "execution_count": null,
   "metadata": {},
   "outputs": [],
   "source": []
  }
 ],
 "metadata": {
  "kernelspec": {
   "display_name": "Python 3 (ipykernel)",
   "language": "python",
   "name": "python3"
  },
  "language_info": {
   "codemirror_mode": {
    "name": "ipython",
    "version": 3
   },
   "file_extension": ".py",
   "mimetype": "text/x-python",
   "name": "python",
   "nbconvert_exporter": "python",
   "pygments_lexer": "ipython3",
   "version": "3.12.4"
  }
 },
 "nbformat": 4,
 "nbformat_minor": 4
}
